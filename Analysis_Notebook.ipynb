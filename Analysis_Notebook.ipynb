{
 "cells": [
  {
   "cell_type": "markdown",
   "metadata": {},
   "source": [
    "# Import "
   ]
  },
  {
   "cell_type": "code",
   "execution_count": 15,
   "metadata": {},
   "outputs": [],
   "source": [
    "import pm4py\n",
    "import pandas as pd\n",
    "from DataTools.DataPull import CloudPull\n",
    "from DataTools import DataProcess\n",
    "from pm4py.algo.discovery.dfg import algorithm as dfg_discovery\n",
    "from pm4py.visualization.dfg import visualizer as dfg_visualization"
   ]
  },
  {
   "cell_type": "markdown",
   "metadata": {},
   "source": [
    "# Pull and Format Event Data"
   ]
  },
  {
   "cell_type": "code",
   "execution_count": 10,
   "metadata": {},
   "outputs": [],
   "source": [
    "data = CloudPull()\n",
    "data['timestamp'] = pd.to_datetime(data['timestamp'], \n",
    "                                   format=\"%d/%m/%Y %H:%M:%S\")\n",
    "events = pm4py.format_dataframe(data, case_id='case_id', \n",
    "                                activity_key='activity', \n",
    "                                timestamp_key='timestamp'\n",
    "                                )"
   ]
  },
  {
   "cell_type": "markdown",
   "metadata": {},
   "source": [
    "# Show Visualizations"
   ]
  },
  {
   "cell_type": "code",
   "execution_count": null,
   "metadata": {},
   "outputs": [],
   "source": [
    "#Graph of actions with frequency of transitions\n",
    "dfg = dfg_discovery.apply(events)\n",
    "gviz = dfg_visualization.apply(dfg, log=events, variant=dfg_visualization.Variants.FREQUENCY)\n",
    "dfg_visualization.save(gviz, \"dfg_frequency.png\")\n",
    "dfg_visualization.view(gviz)"
   ]
  },
  {
   "cell_type": "code",
   "execution_count": null,
   "metadata": {},
   "outputs": [],
   "source": [
    "# Graph of actions with performance between events\n",
    "dfg = dfg_discovery.apply(events, variant=dfg_discovery.Variants.PERFORMANCE)\n",
    "gviz = dfg_visualization.apply(dfg, log=events, variant=dfg_visualization.Variants.PERFORMANCE)\n",
    "dfg_visualization.save(gviz, \"dfg_performance.png\")\n",
    "dfg_visualization.view(gviz)"
   ]
  },
  {
   "cell_type": "markdown",
   "metadata": {},
   "source": [
    "# Show Useful Stats"
   ]
  },
  {
   "cell_type": "code",
   "execution_count": 14,
   "metadata": {},
   "outputs": [
    {
     "data": {
      "text/html": [
       "<div>\n",
       "<style scoped>\n",
       "    .dataframe tbody tr th:only-of-type {\n",
       "        vertical-align: middle;\n",
       "    }\n",
       "\n",
       "    .dataframe tbody tr th {\n",
       "        vertical-align: top;\n",
       "    }\n",
       "\n",
       "    .dataframe thead th {\n",
       "        text-align: right;\n",
       "    }\n",
       "</style>\n",
       "<table border=\"1\" class=\"dataframe\">\n",
       "  <thead>\n",
       "    <tr style=\"text-align: right;\">\n",
       "      <th></th>\n",
       "      <th>case_id</th>\n",
       "      <th>timestamp</th>\n",
       "      <th>activity</th>\n",
       "      <th>user</th>\n",
       "    </tr>\n",
       "  </thead>\n",
       "  <tbody>\n",
       "    <tr>\n",
       "      <th>0</th>\n",
       "      <td>2818392665117754405390736424</td>\n",
       "      <td>2021-02-27 14:07:29</td>\n",
       "      <td>Worked_Cell_5</td>\n",
       "      <td>14873251738404448</td>\n",
       "    </tr>\n",
       "    <tr>\n",
       "      <th>1</th>\n",
       "      <td>2818392665117754405390736424</td>\n",
       "      <td>2021-02-27 14:07:37</td>\n",
       "      <td>Worked_Cell_5</td>\n",
       "      <td>14873251738404448</td>\n",
       "    </tr>\n",
       "    <tr>\n",
       "      <th>2</th>\n",
       "      <td>2818392665117754405390736424</td>\n",
       "      <td>2021-02-27 14:49:03</td>\n",
       "      <td>Worked_Cell_5</td>\n",
       "      <td>14873251738404448</td>\n",
       "    </tr>\n",
       "    <tr>\n",
       "      <th>3</th>\n",
       "      <td>2818392665117754405390736424</td>\n",
       "      <td>2021-02-27 14:49:52</td>\n",
       "      <td>Worked_Cell_5</td>\n",
       "      <td>14873251738404448</td>\n",
       "    </tr>\n",
       "    <tr>\n",
       "      <th>4</th>\n",
       "      <td>2818392665117754405390736424</td>\n",
       "      <td>2021-02-27 14:51:16</td>\n",
       "      <td>Worked_Cell_8</td>\n",
       "      <td>14873251738404448</td>\n",
       "    </tr>\n",
       "  </tbody>\n",
       "</table>\n",
       "</div>"
      ],
      "text/plain": [
       "                        case_id           timestamp       activity  \\\n",
       "0  2818392665117754405390736424 2021-02-27 14:07:29  Worked_Cell_5   \n",
       "1  2818392665117754405390736424 2021-02-27 14:07:37  Worked_Cell_5   \n",
       "2  2818392665117754405390736424 2021-02-27 14:49:03  Worked_Cell_5   \n",
       "3  2818392665117754405390736424 2021-02-27 14:49:52  Worked_Cell_5   \n",
       "4  2818392665117754405390736424 2021-02-27 14:51:16  Worked_Cell_8   \n",
       "\n",
       "                user  \n",
       "0  14873251738404448  \n",
       "1  14873251738404448  \n",
       "2  14873251738404448  \n",
       "3  14873251738404448  \n",
       "4  14873251738404448  "
      ]
     },
     "execution_count": 14,
     "metadata": {},
     "output_type": "execute_result"
    }
   ],
   "source": [
    "import pandasql as ps\n",
    "data.head()"
   ]
  },
  {
   "cell_type": "code",
   "execution_count": null,
   "metadata": {},
   "outputs": [],
   "source": [
    "sql = \"\"\"\n",
    "    SELECT \n",
    "        user\n",
    "\"\"\""
   ]
  }
 ],
 "metadata": {
  "kernelspec": {
   "display_name": "Python 3",
   "language": "python",
   "name": "python3"
  },
  "language_info": {
   "codemirror_mode": {
    "name": "ipython",
    "version": 3
   },
   "file_extension": ".py",
   "mimetype": "text/x-python",
   "name": "python",
   "nbconvert_exporter": "python",
   "pygments_lexer": "ipython3",
   "version": "3.8.6rc1"
  }
 },
 "nbformat": 4,
 "nbformat_minor": 4
}
