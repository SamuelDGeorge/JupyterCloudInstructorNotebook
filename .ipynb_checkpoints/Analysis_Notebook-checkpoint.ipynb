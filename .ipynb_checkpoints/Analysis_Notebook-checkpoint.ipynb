{
 "cells": [
  {
   "cell_type": "markdown",
   "metadata": {},
   "source": [
    "# Import "
   ]
  },
  {
   "cell_type": "code",
   "execution_count": null,
   "metadata": {},
   "outputs": [],
   "source": [
    "import pm4py\n",
    "import pandas as pd\n",
    "from DataTools.DataPull import CloudPull\n",
    "from DataTools import DataProcess\n",
    "from pm4py.algo.discovery.dfg import algorithm as dfg_discovery\n",
    "from pm4py.visualization.dfg import visualizer as dfg_visualization"
   ]
  },
  {
   "cell_type": "markdown",
   "metadata": {},
   "source": [
    "# Pull and Format Event Data\n",
    "\n",
    "Note: You should run this cell in order to pull the latest event data from the server. If you would like to save checkpoints of graphs or analysis, be sure to export them prior to re-running the below. By default event data is refreshed every minute. "
   ]
  },
  {
   "cell_type": "code",
   "execution_count": null,
   "metadata": {},
   "outputs": [],
   "source": [
    "data = CloudPull()\n",
    "data['timestamp'] = pd.to_datetime(data['timestamp'], \n",
    "                                   format=\"%d/%m/%Y %H:%M:%S\")\n",
    "events = pm4py.format_dataframe(data, case_id='case_id', \n",
    "                                activity_key='activity', \n",
    "                                timestamp_key='timestamp'\n",
    "                                )"
   ]
  },
  {
   "cell_type": "markdown",
   "metadata": {},
   "source": [
    "# Show Visualizations"
   ]
  },
  {
   "cell_type": "code",
   "execution_count": null,
   "metadata": {},
   "outputs": [],
   "source": [
    "#Graph of actions with frequency of transitions\n",
    "dfg = dfg_discovery.apply(events)\n",
    "gviz = dfg_visualization.apply(dfg, log=events, variant=dfg_visualization.Variants.FREQUENCY)\n",
    "dfg_visualization.save(gviz, \"dfg_frequency.png\")\n",
    "dfg_visualization.view(gviz)"
   ]
  },
  {
   "cell_type": "code",
   "execution_count": null,
   "metadata": {},
   "outputs": [],
   "source": [
    "# Graph of actions with performance between events\n",
    "dfg = dfg_discovery.apply(events, variant=dfg_discovery.Variants.PERFORMANCE)\n",
    "gviz = dfg_visualization.apply(dfg, log=events, variant=dfg_visualization.Variants.PERFORMANCE)\n",
    "dfg_visualization.save(gviz, \"dfg_performance.png\")\n",
    "dfg_visualization.view(gviz)"
   ]
  },
  {
   "cell_type": "markdown",
   "metadata": {},
   "source": [
    "# Show Useful Stats"
   ]
  },
  {
   "cell_type": "code",
   "execution_count": null,
   "metadata": {},
   "outputs": [],
   "source": [
    "# Initialize class for event analysis\n",
    "process = DataProcess(data)"
   ]
  },
  {
   "cell_type": "code",
   "execution_count": null,
   "metadata": {},
   "outputs": [],
   "source": [
    "# Active Users \n",
    "process.userActivity()"
   ]
  },
  {
   "cell_type": "code",
   "execution_count": null,
   "metadata": {},
   "outputs": [],
   "source": [
    "process.eventFrequency().head()"
   ]
  },
  {
   "cell_type": "code",
   "execution_count": null,
   "metadata": {},
   "outputs": [],
   "source": [
    "process.eventUserFrequency().head()"
   ]
  },
  {
   "cell_type": "code",
   "execution_count": null,
   "metadata": {},
   "outputs": [],
   "source": [
    "process.userAverageTimeBetweenEvents()"
   ]
  },
  {
   "cell_type": "code",
   "execution_count": null,
   "metadata": {},
   "outputs": [],
   "source": [
    "process.userTotalTimeOnEvents()"
   ]
  },
  {
   "cell_type": "code",
   "execution_count": null,
   "metadata": {},
   "outputs": [],
   "source": []
  }
 ],
 "metadata": {
  "kernelspec": {
   "display_name": "Python 3",
   "language": "python",
   "name": "python3"
  },
  "language_info": {
   "codemirror_mode": {
    "name": "ipython",
    "version": 3
   },
   "file_extension": ".py",
   "mimetype": "text/x-python",
   "name": "python",
   "nbconvert_exporter": "python",
   "pygments_lexer": "ipython3",
   "version": "3.8.6rc1"
  }
 },
 "nbformat": 4,
 "nbformat_minor": 4
}
